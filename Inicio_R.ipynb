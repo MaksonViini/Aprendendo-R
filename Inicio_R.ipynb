{
  "nbformat": 4,
  "nbformat_minor": 0,
  "metadata": {
    "colab": {
      "name": "Inicio R.ipynb",
      "provenance": [],
      "collapsed_sections": [
        "fjEuEhcAj9pH",
        "cW_yJjj7l8qH",
        "2RKyzlrTm8Go",
        "GBIUM7NQuS3S",
        "67lxGUcqxhpC",
        "Hp-m82pz1MPC",
        "JJ_rKdjl2XaI"
      ]
    },
    "kernelspec": {
      "name": "ir",
      "display_name": "R"
    }
  },
  "cells": [
    {
      "cell_type": "markdown",
      "metadata": {
        "id": "r93EgmUTkBb4"
      },
      "source": [
        "###Inicio"
      ]
    },
    {
      "cell_type": "code",
      "metadata": {
        "id": "mkyjEeDDjGXn",
        "outputId": "00b91f8b-4667-4fb7-fd4e-09f32929f339",
        "colab": {
          "base_uri": "https://localhost:8080/",
          "height": 34
        }
      },
      "source": [
        "x = \"Ola\"\n",
        "print(x)"
      ],
      "execution_count": null,
      "outputs": [
        {
          "output_type": "stream",
          "text": [
            "[1] \"Ola\"\n"
          ],
          "name": "stdout"
        }
      ]
    },
    {
      "cell_type": "code",
      "metadata": {
        "id": "FTldPH8djdlj",
        "outputId": "7cbdc90d-af53-40c9-a42e-4a17e70158f2",
        "colab": {
          "base_uri": "https://localhost:8080/",
          "height": 50
        }
      },
      "source": [
        "nome = readline(\"Qual e seu nome? \")\n",
        "print(nome)"
      ],
      "execution_count": null,
      "outputs": [
        {
          "output_type": "stream",
          "text": [
            "Qual e seu nome? viini\n",
            "[1] \"viini\"\n"
          ],
          "name": "stdout"
        }
      ]
    },
    {
      "cell_type": "code",
      "metadata": {
        "id": "-r4uE5eqjky0",
        "outputId": "c30906e8-1c14-43f6-9bb1-32ab63d103d1",
        "colab": {
          "base_uri": "https://localhost:8080/",
          "height": 34
        }
      },
      "source": [
        "caract = 15\n",
        "class(caract) \n",
        "#retorna os tipos das variaveis"
      ],
      "execution_count": null,
      "outputs": [
        {
          "output_type": "display_data",
          "data": {
            "text/plain": [
              "[1] \"numeric\""
            ],
            "text/latex": "'numeric'",
            "text/markdown": "'numeric'",
            "text/html": [
              "'numeric'"
            ]
          },
          "metadata": {
            "tags": []
          }
        }
      ]
    },
    {
      "cell_type": "code",
      "metadata": {
        "id": "P25VYDzzy2tf"
      },
      "source": [
        "# Estatistica basica\n",
        "round() # Arredonda\n",
        "sum() # soma\n",
        "mean() # Media\n",
        "var() # Variancia\n",
        "median() # Mediana\n",
        "quantile() # Quartis\n",
        "sd() # Desvio padrao"
      ],
      "execution_count": null,
      "outputs": []
    },
    {
      "cell_type": "code",
      "metadata": {
        "id": "--QaJt2xyvBw",
        "outputId": "fb428936-23ac-444d-bc4a-78e9c074fdda",
        "colab": {
          "base_uri": "https://localhost:8080/",
          "height": 34
        }
      },
      "source": [
        "# Criando amostras\n",
        "amostra = sample(1:50, 5, replace = TRUE)\n",
        "amostra"
      ],
      "execution_count": null,
      "outputs": [
        {
          "output_type": "display_data",
          "data": {
            "text/plain": [
              "[1] 16  7 50 50 29"
            ],
            "text/latex": "\\begin{enumerate*}\n\\item 16\n\\item 7\n\\item 50\n\\item 50\n\\item 29\n\\end{enumerate*}\n",
            "text/markdown": "1. 16\n2. 7\n3. 50\n4. 50\n5. 29\n\n\n",
            "text/html": [
              "<style>\n",
              ".list-inline {list-style: none; margin:0; padding: 0}\n",
              ".list-inline>li {display: inline-block}\n",
              ".list-inline>li:not(:last-child)::after {content: \"\\00b7\"; padding: 0 .5ex}\n",
              "</style>\n",
              "<ol class=list-inline><li>16</li><li>7</li><li>50</li><li>50</li><li>29</li></ol>\n"
            ]
          },
          "metadata": {
            "tags": []
          }
        }
      ]
    },
    {
      "cell_type": "code",
      "metadata": {
        "id": "oAMSWlY5zzKX",
        "outputId": "e2d0b144-6dbf-441b-8641-9407ba01cfb8",
        "colab": {
          "base_uri": "https://localhost:8080/",
          "height": 50
        }
      },
      "source": [
        "summary(amostra) # Fazendo analise descritiva"
      ],
      "execution_count": null,
      "outputs": [
        {
          "output_type": "display_data",
          "data": {
            "text/plain": [
              "   Min. 1st Qu.  Median    Mean 3rd Qu.    Max. \n",
              "    7.0    16.0    29.0    30.4    50.0    50.0 "
            ]
          },
          "metadata": {
            "tags": []
          }
        }
      ]
    },
    {
      "cell_type": "code",
      "metadata": {
        "id": "YryKLVNgz9DO"
      },
      "source": [
        ""
      ],
      "execution_count": null,
      "outputs": []
    },
    {
      "cell_type": "markdown",
      "metadata": {
        "id": "fjEuEhcAj9pH"
      },
      "source": [
        "####Vetor"
      ]
    },
    {
      "cell_type": "code",
      "metadata": {
        "id": "2odRUtepj8fa",
        "outputId": "6a1df89f-942d-42fa-c7bf-9b73b9f0db23",
        "colab": {
          "base_uri": "https://localhost:8080/",
          "height": 34
        }
      },
      "source": [
        "vec = 3\n",
        "is.vector(vector)\n",
        "#Retorna true para o vetor"
      ],
      "execution_count": null,
      "outputs": [
        {
          "output_type": "display_data",
          "data": {
            "text/plain": [
              "[1] TRUE"
            ],
            "text/latex": "TRUE",
            "text/markdown": "TRUE",
            "text/html": [
              "TRUE"
            ]
          },
          "metadata": {
            "tags": []
          }
        }
      ]
    },
    {
      "cell_type": "code",
      "metadata": {
        "id": "QLoFVUXvkMbd",
        "outputId": "7863a282-725f-486e-bbbe-f9c2fd402f12",
        "colab": {
          "base_uri": "https://localhost:8080/",
          "height": 50
        }
      },
      "source": [
        "vec = readline(\"Informe numeros\")\n",
        "print(vec)\n",
        "#Inserir em vetor"
      ],
      "execution_count": null,
      "outputs": [
        {
          "output_type": "stream",
          "text": [
            "Informe numeros6\n",
            "[1] \"6\"\n"
          ],
          "name": "stdout"
        }
      ]
    },
    {
      "cell_type": "markdown",
      "metadata": {
        "id": "cW_yJjj7l8qH"
      },
      "source": [
        "###Matriz"
      ]
    },
    {
      "cell_type": "code",
      "metadata": {
        "id": "qWBiM1HckgQ1",
        "outputId": "eae0645d-2932-48fe-abbf-e45369fded4d",
        "colab": {
          "base_uri": "https://localhost:8080/",
          "height": 67
        }
      },
      "source": [
        "mat = matrix(c(2, 4, 5, 6), ncol = 2, nrow = 2, byrow = TRUE)\n",
        "print(mat)"
      ],
      "execution_count": null,
      "outputs": [
        {
          "output_type": "stream",
          "text": [
            "     [,1] [,2]\n",
            "[1,]    2    4\n",
            "[2,]    5    6\n"
          ],
          "name": "stdout"
        }
      ]
    },
    {
      "cell_type": "markdown",
      "metadata": {
        "id": "2RKyzlrTm8Go"
      },
      "source": [
        "###Data Frame\n"
      ]
    },
    {
      "cell_type": "code",
      "metadata": {
        "id": "iHwMsjSJlmQI"
      },
      "source": [
        "df = data.frame(nome = c(\"Ana\", \"Maria\", \"Vinicio\"), \n",
        "                idade = c(24L, 14L, 20L),\n",
        "                Salario = c(1200, 300, 100))"
      ],
      "execution_count": null,
      "outputs": []
    },
    {
      "cell_type": "code",
      "metadata": {
        "id": "MrRxnDwmnb_X",
        "outputId": "e969e0b5-dd42-457d-9113-aa7ed333b3ce",
        "colab": {
          "base_uri": "https://localhost:8080/",
          "height": 84
        }
      },
      "source": [
        "print(df)"
      ],
      "execution_count": null,
      "outputs": [
        {
          "output_type": "stream",
          "text": [
            "     nome idade Salario\n",
            "1     Ana    24    1200\n",
            "2   Maria    14     300\n",
            "3 Vinicio    20     100\n"
          ],
          "name": "stdout"
        }
      ]
    },
    {
      "cell_type": "markdown",
      "metadata": {
        "id": "GBIUM7NQuS3S"
      },
      "source": [
        "###Condicionais\n"
      ]
    },
    {
      "cell_type": "code",
      "metadata": {
        "id": "aQJZtit8uU0-",
        "outputId": "2565a11c-1c8e-483f-fb03-ca83b8024ecd",
        "colab": {
          "base_uri": "https://localhost:8080/",
          "height": 50
        }
      },
      "source": [
        "x = 3\n",
        "y = 6\n",
        "if(y > x) {\n",
        "  print(\"O maior e ... \")\n",
        "  print(y)\n",
        "} else {\n",
        "  print(\"O maior e ... \")\n",
        "  print(x)\n",
        "}"
      ],
      "execution_count": null,
      "outputs": [
        {
          "output_type": "stream",
          "text": [
            "[1] \"O maior e ... \"\n",
            "[1] 9\n"
          ],
          "name": "stdout"
        }
      ]
    },
    {
      "cell_type": "code",
      "metadata": {
        "id": "rtuChYE2ug0U",
        "outputId": "e31a5fda-5515-4108-91cd-5953b12b12d2",
        "colab": {
          "base_uri": "https://localhost:8080/",
          "height": 34
        }
      },
      "source": [
        "a = 1\n",
        "b = 3\n",
        "ifelse(a > b, \"A maior que B\", \"B maior que A\")"
      ],
      "execution_count": null,
      "outputs": [
        {
          "output_type": "display_data",
          "data": {
            "text/plain": [
              "[1] \"B maior que A\""
            ],
            "text/latex": "'B maior que A'",
            "text/markdown": "'B maior que A'",
            "text/html": [
              "'B maior que A'"
            ]
          },
          "metadata": {
            "tags": []
          }
        }
      ]
    },
    {
      "cell_type": "markdown",
      "metadata": {
        "id": "67lxGUcqxhpC"
      },
      "source": [
        "###Funcoes"
      ]
    },
    {
      "cell_type": "code",
      "metadata": {
        "id": "wnVIKuINvJEl",
        "outputId": "f9588968-dcbb-44bd-8957-a1b3fbafb846",
        "colab": {
          "base_uri": "https://localhost:8080/",
          "height": 229
        }
      },
      "source": [
        "#funcoes padraos do R\n",
        "x = c(1, 8, 6, 9, 3, 5, 7, 4, 50)\n",
        "mean(x) #media\n",
        "sd(x) #desvio padrao\n",
        "#head(iris) #primeira linhas do data frame iris\n",
        "tail(iris) #ultimas linhas do data frame iris"
      ],
      "execution_count": null,
      "outputs": [
        {
          "output_type": "display_data",
          "data": {
            "text/plain": [
              "[1] 10.33333"
            ],
            "text/latex": "10.3333333333333",
            "text/markdown": "10.3333333333333",
            "text/html": [
              "10.3333333333333"
            ]
          },
          "metadata": {
            "tags": []
          }
        },
        {
          "output_type": "display_data",
          "data": {
            "text/plain": [
              "[1] 15.0831"
            ],
            "text/latex": "15.0831031289984",
            "text/markdown": "15.0831031289984",
            "text/html": [
              "15.0831031289984"
            ]
          },
          "metadata": {
            "tags": []
          }
        },
        {
          "output_type": "display_data",
          "data": {
            "text/plain": [
              "    Sepal.Length Sepal.Width Petal.Length Petal.Width Species  \n",
              "145 6.7          3.3         5.7          2.5         virginica\n",
              "146 6.7          3.0         5.2          2.3         virginica\n",
              "147 6.3          2.5         5.0          1.9         virginica\n",
              "148 6.5          3.0         5.2          2.0         virginica\n",
              "149 6.2          3.4         5.4          2.3         virginica\n",
              "150 5.9          3.0         5.1          1.8         virginica"
            ],
            "text/latex": "A data.frame: 6 × 5\n\\begin{tabular}{r|lllll}\n  & Sepal.Length & Sepal.Width & Petal.Length & Petal.Width & Species\\\\\n  & <dbl> & <dbl> & <dbl> & <dbl> & <fct>\\\\\n\\hline\n\t145 & 6.7 & 3.3 & 5.7 & 2.5 & virginica\\\\\n\t146 & 6.7 & 3.0 & 5.2 & 2.3 & virginica\\\\\n\t147 & 6.3 & 2.5 & 5.0 & 1.9 & virginica\\\\\n\t148 & 6.5 & 3.0 & 5.2 & 2.0 & virginica\\\\\n\t149 & 6.2 & 3.4 & 5.4 & 2.3 & virginica\\\\\n\t150 & 5.9 & 3.0 & 5.1 & 1.8 & virginica\\\\\n\\end{tabular}\n",
            "text/markdown": "\nA data.frame: 6 × 5\n\n| <!--/--> | Sepal.Length &lt;dbl&gt; | Sepal.Width &lt;dbl&gt; | Petal.Length &lt;dbl&gt; | Petal.Width &lt;dbl&gt; | Species &lt;fct&gt; |\n|---|---|---|---|---|---|\n| 145 | 6.7 | 3.3 | 5.7 | 2.5 | virginica |\n| 146 | 6.7 | 3.0 | 5.2 | 2.3 | virginica |\n| 147 | 6.3 | 2.5 | 5.0 | 1.9 | virginica |\n| 148 | 6.5 | 3.0 | 5.2 | 2.0 | virginica |\n| 149 | 6.2 | 3.4 | 5.4 | 2.3 | virginica |\n| 150 | 5.9 | 3.0 | 5.1 | 1.8 | virginica |\n\n",
            "text/html": [
              "<table>\n",
              "<caption>A data.frame: 6 × 5</caption>\n",
              "<thead>\n",
              "\t<tr><th></th><th scope=col>Sepal.Length</th><th scope=col>Sepal.Width</th><th scope=col>Petal.Length</th><th scope=col>Petal.Width</th><th scope=col>Species</th></tr>\n",
              "\t<tr><th></th><th scope=col>&lt;dbl&gt;</th><th scope=col>&lt;dbl&gt;</th><th scope=col>&lt;dbl&gt;</th><th scope=col>&lt;dbl&gt;</th><th scope=col>&lt;fct&gt;</th></tr>\n",
              "</thead>\n",
              "<tbody>\n",
              "\t<tr><th scope=row>145</th><td>6.7</td><td>3.3</td><td>5.7</td><td>2.5</td><td>virginica</td></tr>\n",
              "\t<tr><th scope=row>146</th><td>6.7</td><td>3.0</td><td>5.2</td><td>2.3</td><td>virginica</td></tr>\n",
              "\t<tr><th scope=row>147</th><td>6.3</td><td>2.5</td><td>5.0</td><td>1.9</td><td>virginica</td></tr>\n",
              "\t<tr><th scope=row>148</th><td>6.5</td><td>3.0</td><td>5.2</td><td>2.0</td><td>virginica</td></tr>\n",
              "\t<tr><th scope=row>149</th><td>6.2</td><td>3.4</td><td>5.4</td><td>2.3</td><td>virginica</td></tr>\n",
              "\t<tr><th scope=row>150</th><td>5.9</td><td>3.0</td><td>5.1</td><td>1.8</td><td>virginica</td></tr>\n",
              "</tbody>\n",
              "</table>\n"
            ]
          },
          "metadata": {
            "tags": []
          }
        }
      ]
    },
    {
      "cell_type": "code",
      "metadata": {
        "id": "wBXDKGGiyUhU",
        "outputId": "ea593560-9648-4b57-f580-ff8a164b280d",
        "colab": {
          "base_uri": "https://localhost:8080/",
          "height": 34
        }
      },
      "source": [
        "quadrado = function(x) {\n",
        "  return (x * x)\n",
        "}\n",
        "quadrado(5)\n"
      ],
      "execution_count": null,
      "outputs": [
        {
          "output_type": "display_data",
          "data": {
            "text/plain": [
              "[1] 25"
            ],
            "text/latex": "25",
            "text/markdown": "25",
            "text/html": [
              "25"
            ]
          },
          "metadata": {
            "tags": []
          }
        }
      ]
    },
    {
      "cell_type": "code",
      "metadata": {
        "id": "WlaCWmsYyilG",
        "outputId": "32aca857-b63a-4aeb-94b5-70bc60b82440",
        "colab": {
          "base_uri": "https://localhost:8080/",
          "height": 34
        }
      },
      "source": [
        "maior = function(x, y) {\n",
        "  ifelse(x > y, return (x), return (y))\n",
        "}\n",
        "maior(9, 8)"
      ],
      "execution_count": null,
      "outputs": [
        {
          "output_type": "display_data",
          "data": {
            "text/plain": [
              "[1] 9"
            ],
            "text/latex": "9",
            "text/markdown": "9",
            "text/html": [
              "9"
            ]
          },
          "metadata": {
            "tags": []
          }
        }
      ]
    },
    {
      "cell_type": "code",
      "metadata": {
        "id": "w-G7unaazMbt",
        "outputId": "c999fd3e-f382-430c-c4f0-5d9df8205217",
        "colab": {
          "base_uri": "https://localhost:8080/",
          "height": 34
        }
      },
      "source": [
        "menor = function(x, y) {\n",
        "  ifelse(x > y, return (y), return (x))\n",
        "}\n",
        "menor(2, 8)"
      ],
      "execution_count": null,
      "outputs": [
        {
          "output_type": "display_data",
          "data": {
            "text/plain": [
              "[1] 2"
            ],
            "text/latex": "2",
            "text/markdown": "2",
            "text/html": [
              "2"
            ]
          },
          "metadata": {
            "tags": []
          }
        }
      ]
    },
    {
      "cell_type": "code",
      "metadata": {
        "id": "MLl5dmnIzaJ9"
      },
      "source": [
        "par = function(x) {\n",
        "  ifelse(x %% 2 == 0, return (TRUE), return (FALSE))\n",
        "}"
      ],
      "execution_count": null,
      "outputs": []
    },
    {
      "cell_type": "code",
      "metadata": {
        "id": "0K48QtcEz_jz",
        "outputId": "ba65d202-788e-4080-d57d-579a009b3299",
        "colab": {
          "base_uri": "https://localhost:8080/",
          "height": 34
        }
      },
      "source": [
        "par(9)"
      ],
      "execution_count": null,
      "outputs": [
        {
          "output_type": "display_data",
          "data": {
            "text/plain": [
              "[1] FALSE"
            ],
            "text/latex": "FALSE",
            "text/markdown": "FALSE",
            "text/html": [
              "FALSE"
            ]
          },
          "metadata": {
            "tags": []
          }
        }
      ]
    },
    {
      "cell_type": "code",
      "metadata": {
        "id": "uChklovV0AqA"
      },
      "source": [
        "divisivel = function(x, y) {\n",
        "  ifelse(x %% y == 0 , return (TRUE), return (FALSE))\n",
        "}"
      ],
      "execution_count": null,
      "outputs": []
    },
    {
      "cell_type": "code",
      "metadata": {
        "id": "Pmje3RT30onh",
        "outputId": "bea2fee3-3e11-45f1-dedd-f0ec8857d561",
        "colab": {
          "base_uri": "https://localhost:8080/",
          "height": 34
        }
      },
      "source": [
        "divisivel(4L, 2L)"
      ],
      "execution_count": null,
      "outputs": [
        {
          "output_type": "display_data",
          "data": {
            "text/plain": [
              "[1] TRUE"
            ],
            "text/latex": "TRUE",
            "text/markdown": "TRUE",
            "text/html": [
              "TRUE"
            ]
          },
          "metadata": {
            "tags": []
          }
        }
      ]
    },
    {
      "cell_type": "markdown",
      "metadata": {
        "id": "Hp-m82pz1MPC"
      },
      "source": [
        "###Instalando Pacotes"
      ]
    },
    {
      "cell_type": "code",
      "metadata": {
        "id": "3ICSTN5b0pqV",
        "outputId": "10ceb7d0-b410-48a9-ac51-ef40a2e71be4",
        "colab": {
          "base_uri": "https://localhost:8080/",
          "height": 218
        }
      },
      "source": [
        "#intala a biblioteca\n",
        "install.packages(\"ggplot2\", dependencies = TRUE)"
      ],
      "execution_count": null,
      "outputs": [
        {
          "output_type": "stream",
          "text": [
            "Installing package into ‘/usr/local/lib/R/site-library’\n",
            "(as ‘lib’ is unspecified)\n",
            "\n",
            "also installing the dependencies ‘conquer’, ‘classInt’, ‘units’, ‘quantreg’, ‘rgeos’, ‘sf’\n",
            "\n",
            "\n",
            "Warning message in install.packages(\"ggplot2\", dependencies = TRUE):\n",
            "“installation of package ‘units’ had non-zero exit status”\n",
            "Warning message in install.packages(\"ggplot2\", dependencies = TRUE):\n",
            "“installation of package ‘rgeos’ had non-zero exit status”\n",
            "Warning message in install.packages(\"ggplot2\", dependencies = TRUE):\n",
            "“installation of package ‘sf’ had non-zero exit status”\n"
          ],
          "name": "stderr"
        }
      ]
    },
    {
      "cell_type": "code",
      "metadata": {
        "id": "EOmQJVV-1ZIi"
      },
      "source": [
        "#Carregado o pacote\n",
        "library(ggplot2)"
      ],
      "execution_count": null,
      "outputs": []
    },
    {
      "cell_type": "markdown",
      "metadata": {
        "id": "JJ_rKdjl2XaI"
      },
      "source": [
        "### Continua ...\n"
      ]
    },
    {
      "cell_type": "code",
      "metadata": {
        "id": "g2UAdIxf2GkG",
        "outputId": "d24b03ac-1db2-4f96-ae25-5f3e4ff5a58b",
        "colab": {
          "base_uri": "https://localhost:8080/",
          "height": 118
        }
      },
      "source": [
        "#instalando pacotes\n",
        "install.packages(\"shiny\")\n",
        "install.packages(\"sets\")"
      ],
      "execution_count": null,
      "outputs": [
        {
          "output_type": "stream",
          "text": [
            "Installing package into ‘/usr/local/lib/R/site-library’\n",
            "(as ‘lib’ is unspecified)\n",
            "\n",
            "Installing package into ‘/usr/local/lib/R/site-library’\n",
            "(as ‘lib’ is unspecified)\n",
            "\n"
          ],
          "name": "stderr"
        }
      ]
    },
    {
      "cell_type": "code",
      "metadata": {
        "id": "Y6cjq1HH2V_n"
      },
      "source": [
        "par.impar = function() {\n",
        "    for(i in seq(1:20)){\n",
        "        if((i %% 2) == 0) {\n",
        "            print(i)\n",
        "        } else \n",
        "            print(' ')\n",
        "    }\n",
        "}"
      ],
      "execution_count": null,
      "outputs": []
    },
    {
      "cell_type": "code",
      "metadata": {
        "id": "QcIavAk5MSRC",
        "outputId": "8f695453-436e-486c-f5d7-8ac567c25248",
        "colab": {
          "base_uri": "https://localhost:8080/",
          "height": 353
        }
      },
      "source": [
        "par.impar()"
      ],
      "execution_count": null,
      "outputs": [
        {
          "output_type": "stream",
          "text": [
            "[1] \" \"\n",
            "[1] 2\n",
            "[1] \" \"\n",
            "[1] 4\n",
            "[1] \" \"\n",
            "[1] 6\n",
            "[1] \" \"\n",
            "[1] 8\n",
            "[1] \" \"\n",
            "[1] 10\n",
            "[1] \" \"\n",
            "[1] 12\n",
            "[1] \" \"\n",
            "[1] 14\n",
            "[1] \" \"\n",
            "[1] 16\n",
            "[1] \" \"\n",
            "[1] 18\n",
            "[1] \" \"\n",
            "[1] 20\n"
          ],
          "name": "stdout"
        }
      ]
    },
    {
      "cell_type": "code",
      "metadata": {
        "id": "7ibrFV4NTYDs"
      },
      "source": [
        "?plot"
      ],
      "execution_count": null,
      "outputs": []
    }
  ]
}